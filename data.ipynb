{
 "cells": [
  {
   "cell_type": "code",
   "execution_count": 1,
   "metadata": {},
   "outputs": [],
   "source": [
    "#create dataframe\n",
    "\n",
    "import pandas as pd\n",
    "import openpyxl\n",
    "\n",
    "read_file = pd.read_excel(\"dummy1.xlsx\")\n",
    "read_file.to_csv (\"test.csv\",index = None,header=True)\n",
    "df = pd.DataFrame(pd.read_csv(\"test.csv\"))"
   ]
  },
  {
   "cell_type": "code",
   "execution_count": 2,
   "metadata": {},
   "outputs": [
    {
     "data": {
      "text/html": [
       "<div>\n",
       "<style scoped>\n",
       "    .dataframe tbody tr th:only-of-type {\n",
       "        vertical-align: middle;\n",
       "    }\n",
       "\n",
       "    .dataframe tbody tr th {\n",
       "        vertical-align: top;\n",
       "    }\n",
       "\n",
       "    .dataframe thead th {\n",
       "        text-align: right;\n",
       "    }\n",
       "</style>\n",
       "<table border=\"1\" class=\"dataframe\">\n",
       "  <thead>\n",
       "    <tr style=\"text-align: right;\">\n",
       "      <th></th>\n",
       "      <th>SNO</th>\n",
       "      <th>NAME</th>\n",
       "      <th>PLATE</th>\n",
       "      <th>MOBILE</th>\n",
       "      <th>EMAIL</th>\n",
       "    </tr>\n",
       "  </thead>\n",
       "  <tbody>\n",
       "    <tr>\n",
       "      <th>0</th>\n",
       "      <td>1</td>\n",
       "      <td>SAI</td>\n",
       "      <td>TS16CE6832</td>\n",
       "      <td>6548962145</td>\n",
       "      <td>saubhanu0009+1@gmail.com</td>\n",
       "    </tr>\n",
       "    <tr>\n",
       "      <th>1</th>\n",
       "      <td>2</td>\n",
       "      <td>BHANU</td>\n",
       "      <td>AP28YE4253</td>\n",
       "      <td>7330125484</td>\n",
       "      <td>saubhanu0009+2@gmail.com</td>\n",
       "    </tr>\n",
       "    <tr>\n",
       "      <th>2</th>\n",
       "      <td>3</td>\n",
       "      <td>RANGA</td>\n",
       "      <td>AP28YT6732</td>\n",
       "      <td>9845621579</td>\n",
       "      <td>saubhanu0009+3@gmail.com</td>\n",
       "    </tr>\n",
       "    <tr>\n",
       "      <th>3</th>\n",
       "      <td>4</td>\n",
       "      <td>BHARADWAJ</td>\n",
       "      <td>GJ33ER0563</td>\n",
       "      <td>8005615456</td>\n",
       "      <td>saubhanu0009+4@gmail.com</td>\n",
       "    </tr>\n",
       "    <tr>\n",
       "      <th>4</th>\n",
       "      <td>5</td>\n",
       "      <td>LAKSHMAN</td>\n",
       "      <td>PN16LL9532</td>\n",
       "      <td>7456154257</td>\n",
       "      <td>saubhanu0009+5@gmail.com</td>\n",
       "    </tr>\n",
       "    <tr>\n",
       "      <th>5</th>\n",
       "      <td>6</td>\n",
       "      <td>KOUSHIK</td>\n",
       "      <td>PY01CA8595</td>\n",
       "      <td>6265887960</td>\n",
       "      <td>saubhanu0009+6@gmail.com</td>\n",
       "    </tr>\n",
       "    <tr>\n",
       "      <th>6</th>\n",
       "      <td>7</td>\n",
       "      <td>AKHIL</td>\n",
       "      <td>TS17LG3299</td>\n",
       "      <td>9898977020</td>\n",
       "      <td>saubhanu0009+7@gmail.com</td>\n",
       "    </tr>\n",
       "    <tr>\n",
       "      <th>7</th>\n",
       "      <td>8</td>\n",
       "      <td>DATTA</td>\n",
       "      <td>TS34UT1514</td>\n",
       "      <td>6523121200</td>\n",
       "      <td>saubhanu0009+8@gmail.com</td>\n",
       "    </tr>\n",
       "    <tr>\n",
       "      <th>8</th>\n",
       "      <td>9</td>\n",
       "      <td>SRIRAM</td>\n",
       "      <td>AP02AN4525</td>\n",
       "      <td>8523125478</td>\n",
       "      <td>saubhanu0009+9@gmail.com</td>\n",
       "    </tr>\n",
       "  </tbody>\n",
       "</table>\n",
       "</div>"
      ],
      "text/plain": [
       "   SNO       NAME       PLATE      MOBILE                     EMAIL\n",
       "0    1        SAI  TS16CE6832  6548962145  saubhanu0009+1@gmail.com\n",
       "1    2      BHANU  AP28YE4253  7330125484  saubhanu0009+2@gmail.com\n",
       "2    3      RANGA  AP28YT6732  9845621579  saubhanu0009+3@gmail.com\n",
       "3    4  BHARADWAJ  GJ33ER0563  8005615456  saubhanu0009+4@gmail.com\n",
       "4    5   LAKSHMAN  PN16LL9532  7456154257  saubhanu0009+5@gmail.com\n",
       "5    6    KOUSHIK  PY01CA8595  6265887960  saubhanu0009+6@gmail.com\n",
       "6    7      AKHIL  TS17LG3299  9898977020  saubhanu0009+7@gmail.com\n",
       "7    8      DATTA  TS34UT1514  6523121200  saubhanu0009+8@gmail.com\n",
       "8    9     SRIRAM  AP02AN4525  8523125478  saubhanu0009+9@gmail.com"
      ]
     },
     "execution_count": 2,
     "metadata": {},
     "output_type": "execute_result"
    }
   ],
   "source": [
    "#check\n",
    "df"
   ]
  },
  {
   "cell_type": "code",
   "execution_count": 3,
   "metadata": {},
   "outputs": [
    {
     "data": {
      "text/html": [
       "<div>\n",
       "<style scoped>\n",
       "    .dataframe tbody tr th:only-of-type {\n",
       "        vertical-align: middle;\n",
       "    }\n",
       "\n",
       "    .dataframe tbody tr th {\n",
       "        vertical-align: top;\n",
       "    }\n",
       "\n",
       "    .dataframe thead th {\n",
       "        text-align: right;\n",
       "    }\n",
       "</style>\n",
       "<table border=\"1\" class=\"dataframe\">\n",
       "  <thead>\n",
       "    <tr style=\"text-align: right;\">\n",
       "      <th></th>\n",
       "      <th>SNO</th>\n",
       "      <th>NAME</th>\n",
       "      <th>PLATE</th>\n",
       "      <th>MOBILE</th>\n",
       "      <th>EMAIL</th>\n",
       "    </tr>\n",
       "  </thead>\n",
       "  <tbody>\n",
       "    <tr>\n",
       "      <th>0</th>\n",
       "      <td>1</td>\n",
       "      <td>SAI</td>\n",
       "      <td>TS16CE6832</td>\n",
       "      <td>6548962145</td>\n",
       "      <td>saubhanu0009+1@gmail.com</td>\n",
       "    </tr>\n",
       "    <tr>\n",
       "      <th>1</th>\n",
       "      <td>2</td>\n",
       "      <td>BHANU</td>\n",
       "      <td>AP28YE4253</td>\n",
       "      <td>7330125484</td>\n",
       "      <td>saubhanu0009+2@gmail.com</td>\n",
       "    </tr>\n",
       "    <tr>\n",
       "      <th>2</th>\n",
       "      <td>3</td>\n",
       "      <td>RANGA</td>\n",
       "      <td>AP28YT6732</td>\n",
       "      <td>9845621579</td>\n",
       "      <td>saubhanu0009+3@gmail.com</td>\n",
       "    </tr>\n",
       "    <tr>\n",
       "      <th>3</th>\n",
       "      <td>4</td>\n",
       "      <td>BHARADWAJ</td>\n",
       "      <td>GJ33ER0563</td>\n",
       "      <td>8005615456</td>\n",
       "      <td>saubhanu0009+4@gmail.com</td>\n",
       "    </tr>\n",
       "    <tr>\n",
       "      <th>4</th>\n",
       "      <td>5</td>\n",
       "      <td>LAKSHMAN</td>\n",
       "      <td>PN16LL9532</td>\n",
       "      <td>7456154257</td>\n",
       "      <td>saubhanu0009+5@gmail.com</td>\n",
       "    </tr>\n",
       "  </tbody>\n",
       "</table>\n",
       "</div>"
      ],
      "text/plain": [
       "   SNO       NAME       PLATE      MOBILE                     EMAIL\n",
       "0    1        SAI  TS16CE6832  6548962145  saubhanu0009+1@gmail.com\n",
       "1    2      BHANU  AP28YE4253  7330125484  saubhanu0009+2@gmail.com\n",
       "2    3      RANGA  AP28YT6732  9845621579  saubhanu0009+3@gmail.com\n",
       "3    4  BHARADWAJ  GJ33ER0563  8005615456  saubhanu0009+4@gmail.com\n",
       "4    5   LAKSHMAN  PN16LL9532  7456154257  saubhanu0009+5@gmail.com"
      ]
     },
     "execution_count": 3,
     "metadata": {},
     "output_type": "execute_result"
    }
   ],
   "source": [
    "#create csv data\n",
    "\n",
    "import pandas as pd\n",
    "data = pd.read_csv('test.csv', index_col=False, delimiter = ',')\n",
    "data.head()"
   ]
  },
  {
   "cell_type": "code",
   "execution_count": 4,
   "metadata": {},
   "outputs": [
    {
     "name": "stdout",
     "output_type": "stream",
     "text": [
      "Database is created\n"
     ]
    }
   ],
   "source": [
    "#create database\n",
    "\n",
    "import mysql.connector as msql\n",
    "from mysql.connector import Error\n",
    "\n",
    "try:\n",
    "    conn = msql.connect(host='localhost', user='root', password='ranga12345')\n",
    "    if conn.is_connected():\n",
    "        cursor = conn.cursor()\n",
    "        cursor.execute(\"DROP DATABASE IF EXISTS dummy1\")\n",
    "        cursor.execute(\"CREATE DATABASE dummy1\")\n",
    "        print(\"Database is created\")\n",
    "except Error as e:\n",
    "    print(\"Error while connecting to MySQL\", e)"
   ]
  },
  {
   "cell_type": "code",
   "execution_count": 5,
   "metadata": {},
   "outputs": [
    {
     "name": "stdout",
     "output_type": "stream",
     "text": [
      "You're connected to database:  ('dummy1',)\n",
      "Creating table....\n",
      "Table is created....\n",
      "Record inserted\n",
      "Record inserted\n",
      "Record inserted\n",
      "Record inserted\n",
      "Record inserted\n",
      "Record inserted\n",
      "Record inserted\n",
      "Record inserted\n",
      "Record inserted\n"
     ]
    }
   ],
   "source": [
    "#create table\n",
    "\n",
    "import mysql.connector as msql\n",
    "from mysql.connector import Error\n",
    "try:\n",
    "    conn = msql.connect(host='localhost', database='dummy1', user='root', password='ranga12345')\n",
    "    if conn.is_connected():\n",
    "        cursor = conn.cursor()\n",
    "        cursor.execute(\"select database();\")\n",
    "        record = cursor.fetchone()\n",
    "        print(\"You're connected to database: \", record)\n",
    "        cursor.execute('DROP TABLE IF EXISTS dummydata;')\n",
    "        print('Creating table....')\n",
    "# in the below line please pass the create table statement which you want #to create\n",
    "        cursor.execute(\"CREATE TABLE dummydata(SNO INT(5), NAME VARCHAR(30), PLATE VARCHAR(10), MOBILE VARCHAR(10), EMAIL VARCHAR(30))\")\n",
    "        print(\"Table is created....\")\n",
    "        #loop through the data frame\n",
    "        for i,row in data.iterrows():\n",
    "            #here %S means string values \n",
    "            sql = \"INSERT INTO dummy1.dummydata VALUES (%s,%s,%s,%s,%s)\"\n",
    "            cursor.execute(sql, tuple(row))\n",
    "            print(\"Record inserted\")\n",
    "            # the connection is not auto committed by default, so we must commit to save our changes\n",
    "            conn.commit()\n",
    "except Error as e:\n",
    "            print(\"Error while connecting to MySQL\", e)"
   ]
  },
  {
   "attachments": {},
   "cell_type": "markdown",
   "metadata": {},
   "source": [
    "# Insertion into DB completed"
   ]
  },
  {
   "cell_type": "code",
   "execution_count": null,
   "metadata": {},
   "outputs": [],
   "source": []
  },
  {
   "cell_type": "code",
   "execution_count": 40,
   "metadata": {},
   "outputs": [],
   "source": [
    "from main import plates as p"
   ]
  },
  {
   "cell_type": "code",
   "execution_count": 41,
   "metadata": {},
   "outputs": [],
   "source": [
    "#get output into python array\n",
    "a=[]\n",
    "for x in p:\n",
    "    sql = \"SELECT email FROM dummy1.dummydata where plate = '\"+x+\"' \"\n",
    "    cursor.execute(sql)\n",
    "    # Fetch all the records\n",
    "    result = cursor.fetchall()\n",
    "    if len(result) == 0:\n",
    "        result = [\"\"]\n",
    "    for i in result:\n",
    "        a.append(i)"
   ]
  },
  {
   "cell_type": "code",
   "execution_count": 42,
   "metadata": {},
   "outputs": [
    {
     "name": "stdout",
     "output_type": "stream",
     "text": [
      "['AP02AN4525', 'TS28CE6832', 'GJ33ER0563', 'PY01CA8595']\n",
      "[('saubhanu0009+9@gmail.com',), '', ('saubhanu0009+4@gmail.com',), ('saubhanu0009+6@gmail.com',)]\n"
     ]
    }
   ],
   "source": [
    "print(p)\n",
    "print(a)"
   ]
  },
  {
   "cell_type": "code",
   "execution_count": 43,
   "metadata": {},
   "outputs": [],
   "source": [
    "#import libraries\n",
    "\n",
    "import smtplib\n",
    "import ssl\n",
    "from email.message import EmailMessage"
   ]
  },
  {
   "cell_type": "code",
   "execution_count": 44,
   "metadata": {},
   "outputs": [],
   "source": [
    "#message\n",
    "\n",
    "subject = 'E-challan copy from TN Police'\n",
    "body=\"\"\"\n",
    "This is an online copy of e-challan for your vechile number 'TN 23 CR 1636'\n",
    "\n",
    "Challan No. : 0155\n",
    "Date        : 22-09-2022\n",
    "Reason      : Not wearing helmet\n",
    "Amount      : ₹ 150.00\n",
    "Due Date    : 23-03-2023\n",
    "\n",
    "E-payment link - https://www.karuvoolam.tn.gov.in/challan/echallan \n",
    "\n",
    ":::HURT YOUR HELMET NOT YOUR HEAD:::\n",
    "\"\"\""
   ]
  },
  {
   "cell_type": "code",
   "execution_count": 45,
   "metadata": {},
   "outputs": [],
   "source": [
    "#mail details\n",
    "\n",
    "email_sender = 'sai15081947@gmail.com'\n",
    "email_password = 'ttjqkrmgkeflbvmv'\n",
    "email_receiver = a"
   ]
  },
  {
   "cell_type": "code",
   "execution_count": 47,
   "metadata": {},
   "outputs": [
    {
     "name": "stdout",
     "output_type": "stream",
     "text": [
      "sent mail to ('saubhanu0009+9@gmail.com',)\n"
     ]
    },
    {
     "ename": "KeyboardInterrupt",
     "evalue": "",
     "output_type": "error",
     "traceback": [
      "\u001b[1;31m---------------------------------------------------------------------------\u001b[0m",
      "\u001b[1;31mKeyboardInterrupt\u001b[0m                         Traceback (most recent call last)",
      "\u001b[1;32mc:\\Users\\saibh\\Desktop\\CIP_II\\data.ipynb Cell 12\u001b[0m in \u001b[0;36m<cell line: 3>\u001b[1;34m()\u001b[0m\n\u001b[0;32m      <a href='vscode-notebook-cell:/c%3A/Users/saibh/Desktop/CIP_II/data.ipynb#X14sZmlsZQ%3D%3D?line=7'>8</a>\u001b[0m em\u001b[39m.\u001b[39mset_content(body)\n\u001b[0;32m     <a href='vscode-notebook-cell:/c%3A/Users/saibh/Desktop/CIP_II/data.ipynb#X14sZmlsZQ%3D%3D?line=9'>10</a>\u001b[0m context \u001b[39m=\u001b[39m ssl\u001b[39m.\u001b[39mcreate_default_context()\n\u001b[1;32m---> <a href='vscode-notebook-cell:/c%3A/Users/saibh/Desktop/CIP_II/data.ipynb#X14sZmlsZQ%3D%3D?line=11'>12</a>\u001b[0m \u001b[39mwith\u001b[39;00m smtplib\u001b[39m.\u001b[39;49mSMTP_SSL(\u001b[39m'\u001b[39;49m\u001b[39msmtp.gmail.com\u001b[39;49m\u001b[39m'\u001b[39;49m, \u001b[39m465\u001b[39;49m, context\u001b[39m=\u001b[39;49mcontext) \u001b[39mas\u001b[39;00m smtp:\n\u001b[0;32m     <a href='vscode-notebook-cell:/c%3A/Users/saibh/Desktop/CIP_II/data.ipynb#X14sZmlsZQ%3D%3D?line=12'>13</a>\u001b[0m   smtp\u001b[39m.\u001b[39mlogin(email_sender, email_password)\n\u001b[0;32m     <a href='vscode-notebook-cell:/c%3A/Users/saibh/Desktop/CIP_II/data.ipynb#X14sZmlsZQ%3D%3D?line=13'>14</a>\u001b[0m   smtp\u001b[39m.\u001b[39msendmail(email_sender, email_receiver[i], em\u001b[39m.\u001b[39mas_string())\n",
      "File \u001b[1;32mc:\\ProgramData\\Anaconda3\\lib\\smtplib.py:1050\u001b[0m, in \u001b[0;36mSMTP_SSL.__init__\u001b[1;34m(self, host, port, local_hostname, keyfile, certfile, timeout, source_address, context)\u001b[0m\n\u001b[0;32m   1047\u001b[0m     context \u001b[39m=\u001b[39m ssl\u001b[39m.\u001b[39m_create_stdlib_context(certfile\u001b[39m=\u001b[39mcertfile,\n\u001b[0;32m   1048\u001b[0m                                          keyfile\u001b[39m=\u001b[39mkeyfile)\n\u001b[0;32m   1049\u001b[0m \u001b[39mself\u001b[39m\u001b[39m.\u001b[39mcontext \u001b[39m=\u001b[39m context\n\u001b[1;32m-> 1050\u001b[0m SMTP\u001b[39m.\u001b[39;49m\u001b[39m__init__\u001b[39;49m(\u001b[39mself\u001b[39;49m, host, port, local_hostname, timeout,\n\u001b[0;32m   1051\u001b[0m               source_address)\n",
      "File \u001b[1;32mc:\\ProgramData\\Anaconda3\\lib\\smtplib.py:255\u001b[0m, in \u001b[0;36mSMTP.__init__\u001b[1;34m(self, host, port, local_hostname, timeout, source_address)\u001b[0m\n\u001b[0;32m    252\u001b[0m \u001b[39mself\u001b[39m\u001b[39m.\u001b[39m_auth_challenge_count \u001b[39m=\u001b[39m \u001b[39m0\u001b[39m\n\u001b[0;32m    254\u001b[0m \u001b[39mif\u001b[39;00m host:\n\u001b[1;32m--> 255\u001b[0m     (code, msg) \u001b[39m=\u001b[39m \u001b[39mself\u001b[39;49m\u001b[39m.\u001b[39;49mconnect(host, port)\n\u001b[0;32m    256\u001b[0m     \u001b[39mif\u001b[39;00m code \u001b[39m!=\u001b[39m \u001b[39m220\u001b[39m:\n\u001b[0;32m    257\u001b[0m         \u001b[39mself\u001b[39m\u001b[39m.\u001b[39mclose()\n",
      "File \u001b[1;32mc:\\ProgramData\\Anaconda3\\lib\\smtplib.py:343\u001b[0m, in \u001b[0;36mSMTP.connect\u001b[1;34m(self, host, port, source_address)\u001b[0m\n\u001b[0;32m    341\u001b[0m \u001b[39mself\u001b[39m\u001b[39m.\u001b[39msock \u001b[39m=\u001b[39m \u001b[39mself\u001b[39m\u001b[39m.\u001b[39m_get_socket(host, port, \u001b[39mself\u001b[39m\u001b[39m.\u001b[39mtimeout)\n\u001b[0;32m    342\u001b[0m \u001b[39mself\u001b[39m\u001b[39m.\u001b[39mfile \u001b[39m=\u001b[39m \u001b[39mNone\u001b[39;00m\n\u001b[1;32m--> 343\u001b[0m (code, msg) \u001b[39m=\u001b[39m \u001b[39mself\u001b[39;49m\u001b[39m.\u001b[39;49mgetreply()\n\u001b[0;32m    344\u001b[0m \u001b[39mif\u001b[39;00m \u001b[39mself\u001b[39m\u001b[39m.\u001b[39mdebuglevel \u001b[39m>\u001b[39m \u001b[39m0\u001b[39m:\n\u001b[0;32m    345\u001b[0m     \u001b[39mself\u001b[39m\u001b[39m.\u001b[39m_print_debug(\u001b[39m'\u001b[39m\u001b[39mconnect:\u001b[39m\u001b[39m'\u001b[39m, \u001b[39mrepr\u001b[39m(msg))\n",
      "File \u001b[1;32mc:\\ProgramData\\Anaconda3\\lib\\smtplib.py:398\u001b[0m, in \u001b[0;36mSMTP.getreply\u001b[1;34m(self)\u001b[0m\n\u001b[0;32m    396\u001b[0m \u001b[39mwhile\u001b[39;00m \u001b[39m1\u001b[39m:\n\u001b[0;32m    397\u001b[0m     \u001b[39mtry\u001b[39;00m:\n\u001b[1;32m--> 398\u001b[0m         line \u001b[39m=\u001b[39m \u001b[39mself\u001b[39;49m\u001b[39m.\u001b[39;49mfile\u001b[39m.\u001b[39;49mreadline(_MAXLINE \u001b[39m+\u001b[39;49m \u001b[39m1\u001b[39;49m)\n\u001b[0;32m    399\u001b[0m     \u001b[39mexcept\u001b[39;00m \u001b[39mOSError\u001b[39;00m \u001b[39mas\u001b[39;00m e:\n\u001b[0;32m    400\u001b[0m         \u001b[39mself\u001b[39m\u001b[39m.\u001b[39mclose()\n",
      "File \u001b[1;32mc:\\ProgramData\\Anaconda3\\lib\\socket.py:704\u001b[0m, in \u001b[0;36mSocketIO.readinto\u001b[1;34m(self, b)\u001b[0m\n\u001b[0;32m    702\u001b[0m \u001b[39mwhile\u001b[39;00m \u001b[39mTrue\u001b[39;00m:\n\u001b[0;32m    703\u001b[0m     \u001b[39mtry\u001b[39;00m:\n\u001b[1;32m--> 704\u001b[0m         \u001b[39mreturn\u001b[39;00m \u001b[39mself\u001b[39;49m\u001b[39m.\u001b[39;49m_sock\u001b[39m.\u001b[39;49mrecv_into(b)\n\u001b[0;32m    705\u001b[0m     \u001b[39mexcept\u001b[39;00m timeout:\n\u001b[0;32m    706\u001b[0m         \u001b[39mself\u001b[39m\u001b[39m.\u001b[39m_timeout_occurred \u001b[39m=\u001b[39m \u001b[39mTrue\u001b[39;00m\n",
      "File \u001b[1;32mc:\\ProgramData\\Anaconda3\\lib\\ssl.py:1242\u001b[0m, in \u001b[0;36mSSLSocket.recv_into\u001b[1;34m(self, buffer, nbytes, flags)\u001b[0m\n\u001b[0;32m   1238\u001b[0m     \u001b[39mif\u001b[39;00m flags \u001b[39m!=\u001b[39m \u001b[39m0\u001b[39m:\n\u001b[0;32m   1239\u001b[0m         \u001b[39mraise\u001b[39;00m \u001b[39mValueError\u001b[39;00m(\n\u001b[0;32m   1240\u001b[0m           \u001b[39m\"\u001b[39m\u001b[39mnon-zero flags not allowed in calls to recv_into() on \u001b[39m\u001b[39m%s\u001b[39;00m\u001b[39m\"\u001b[39m \u001b[39m%\u001b[39m\n\u001b[0;32m   1241\u001b[0m           \u001b[39mself\u001b[39m\u001b[39m.\u001b[39m\u001b[39m__class__\u001b[39m)\n\u001b[1;32m-> 1242\u001b[0m     \u001b[39mreturn\u001b[39;00m \u001b[39mself\u001b[39;49m\u001b[39m.\u001b[39;49mread(nbytes, buffer)\n\u001b[0;32m   1243\u001b[0m \u001b[39melse\u001b[39;00m:\n\u001b[0;32m   1244\u001b[0m     \u001b[39mreturn\u001b[39;00m \u001b[39msuper\u001b[39m()\u001b[39m.\u001b[39mrecv_into(buffer, nbytes, flags)\n",
      "File \u001b[1;32mc:\\ProgramData\\Anaconda3\\lib\\ssl.py:1100\u001b[0m, in \u001b[0;36mSSLSocket.read\u001b[1;34m(self, len, buffer)\u001b[0m\n\u001b[0;32m   1098\u001b[0m \u001b[39mtry\u001b[39;00m:\n\u001b[0;32m   1099\u001b[0m     \u001b[39mif\u001b[39;00m buffer \u001b[39mis\u001b[39;00m \u001b[39mnot\u001b[39;00m \u001b[39mNone\u001b[39;00m:\n\u001b[1;32m-> 1100\u001b[0m         \u001b[39mreturn\u001b[39;00m \u001b[39mself\u001b[39;49m\u001b[39m.\u001b[39;49m_sslobj\u001b[39m.\u001b[39;49mread(\u001b[39mlen\u001b[39;49m, buffer)\n\u001b[0;32m   1101\u001b[0m     \u001b[39melse\u001b[39;00m:\n\u001b[0;32m   1102\u001b[0m         \u001b[39mreturn\u001b[39;00m \u001b[39mself\u001b[39m\u001b[39m.\u001b[39m_sslobj\u001b[39m.\u001b[39mread(\u001b[39mlen\u001b[39m)\n",
      "\u001b[1;31mKeyboardInterrupt\u001b[0m: "
     ]
    }
   ],
   "source": [
    "#sending mails \n",
    "\n",
    "for i in range(len(email_receiver)):\n",
    "  em = EmailMessage()\n",
    "  em['From'] = email_sender\n",
    "  em['To'] = email_receiver[i]\n",
    "  em['Subject'] = subject\n",
    "  em.set_content(body)\n",
    "\n",
    "  context = ssl.create_default_context()\n",
    "\n",
    "  with smtplib.SMTP_SSL('smtp.gmail.com', 465, context=context) as smtp:\n",
    "    smtp.login(email_sender, email_password)\n",
    "    smtp.sendmail(email_sender, email_receiver[i], em.as_string())\n",
    "\n",
    "    print('sent mail to', email_receiver[i])"
   ]
  }
 ],
 "metadata": {
  "kernelspec": {
   "display_name": "Python 3.9.13 ('base')",
   "language": "python",
   "name": "python3"
  },
  "language_info": {
   "codemirror_mode": {
    "name": "ipython",
    "version": 3
   },
   "file_extension": ".py",
   "mimetype": "text/x-python",
   "name": "python",
   "nbconvert_exporter": "python",
   "pygments_lexer": "ipython3",
   "version": "3.11.3"
  },
  "orig_nbformat": 4,
  "vscode": {
   "interpreter": {
    "hash": "ad2bdc8ecc057115af97d19610ffacc2b4e99fae6737bb82f5d7fb13d2f2c186"
   }
  }
 },
 "nbformat": 4,
 "nbformat_minor": 2
}
